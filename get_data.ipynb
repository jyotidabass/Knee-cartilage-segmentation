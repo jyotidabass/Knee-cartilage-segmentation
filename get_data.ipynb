version https://git-lfs.github.com/spec/v1
oid sha256:073bd7ec22e4116fd094069426cb578bcdd4d055966ccd2a0e1d41d973869903
size 3856
