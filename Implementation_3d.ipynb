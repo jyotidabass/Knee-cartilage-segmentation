version https://git-lfs.github.com/spec/v1
oid sha256:5e68e4302828bee2242f3ef8562a02378c46cb9f2c69bc50b64ecc50d14d9232
size 13577343
